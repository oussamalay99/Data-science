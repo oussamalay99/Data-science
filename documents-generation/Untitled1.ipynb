{
 "cells": [
  {
   "cell_type": "code",
   "execution_count": 1,
   "metadata": {},
   "outputs": [],
   "source": [
    "#importing librarys\n",
    "import requests\n",
    "from bs4 import BeautifulSoup"
   ]
  },
  {
   "cell_type": "code",
   "execution_count": 2,
   "metadata": {},
   "outputs": [
    {
     "data": {
      "text/plain": [
       "'\\n<!doctype html>\\n<html class=\"no-js no-svg html-attr\" lang=\"fr-FR\">\\n<head>\\n    <meta charset=\"UTF-8\" />\\n    <link href=\"https://fonts.googleapis.com/css?family=Lato:300,400,700|Montserrat:400,500,600&display=swap\" rel=\"stylesheet\">\\n    <meta http-equiv=\"Content-Type\" content=\"text/html; charset=UTF-8\" />\\n    <meta http-equiv=\"X-UA-Compatible\" content=\"IE=edge\">\\n    <meta name=\"viewport\" content=\"width=device-width, initial-scale=1\">\\n    <link rel=\"pingback\" href=\"https://www.coover.fr/xmlrpc.php\" />\\n    <link rel=\"profile\" href=\"https://gmpg.org/xfn/11\">\\n    <link rel=\"stylesheet\" href=\"https://www.coover.fr/wp-content/themes/coover/build/style.css?35q2r1a8qx\" type=\"text/css\" media=\"screen\" />\\n    <link rel=\"shortcut icon\" type=\"image/x-icon\" href=\"https://www.coover.fr/wp-content/themes/coover/static/img/favicon.ico\">\\n    <link rel=\"icon\" type=\"image/png\" href=\"https://www.coover.fr/wp-content/themes/coover/static/img/favicon_16.png\" sizes=\"16x16\">\\n    <link rel=\"icon\" type=\"image/png\" href=\"https://www.coover.fr/wp-content/themes/coover/static/img/favicon_32.png\" sizes=\"32x32\">\\n    <link rel=\"icon\" type=\"image/png\" href=\"https://www.coover.fr/wp-content/themes/coover/static/img/favicon_48.png\" sizes=\"48x48\">\\n    <link rel=\"icon\" type=\"image/png\" href=\"https://www.coover.fr/wp-content/themes/coover/static/img/favicon_96.png\" sizes=\"96x96\">\\n    <script>\\n        isProduction = true;\\n    </script>\\n\\n    <!-- Google Tag Manager -->\\n    <script>\\n      dataLayer = [];\\n    </script>\\n    <script>(function(w,d,s,l,i){w[l]=w[l]||[];w[l].push({\\'gtm.start\\':\\n          new Date().getTime(),event:\\'gtm.js\\'});var f=d.getElementsByTagName(s)[0],\\n        j=d.createElement(s),dl=l!=\\'dataLayer\\'?\\'&l=\\'+l:\\'\\';j.async=true;j.src=\\n        \\'https://www.googletagmanager.com/gtm.js?id=\\'+i+dl;f.parentNode.insertBefore(j,f);\\n      })(window,document,\\'script\\',\\'dataLayer\\',\\'GTM-53GRC94\\');</script>\\n    <!-- End Google Tag Manager -->\\n\\n\\n    <meta name=\\'robots\\' content=\\'index, follow, max-image-preview:large, max-snippet:-1, max-video-preview:-1\\' />\\n\\n\\t<!-- This site is optimized with the Yoast SEO plugin v16.4 - https://yoast.com/wordpress/plugins/seo/ -->\\n\\t<title>Modèle gratuit de statuts EURL (Mise à jour 2021)</title>\\n\\t<meta name=\"description\" content=\"Modèle gratuit de statuts EURL ᐅ Conseils et avis d&#039;experts indépendants - Comparatifs intelligents - Outils gratuits en ligne. Déjà 3 millions d&#039;utilisateurs.\" />\\n\\t<link rel=\"canonical\" href=\"https://www.coover.fr/modeles/creation-entreprise/statuts-eurl\" />\\n\\t<meta property=\"og:locale\" content=\"fr_FR\" />\\n\\t<meta property=\"og:type\" content=\"article\" />\\n\\t<meta property=\"og:title\" content=\"Modèle gratuit de statuts EURL (Mise à jour 2021)\" />\\n\\t<meta property=\"og:description\" content=\"Modèle gratuit de statuts EURL ᐅ Conseils et avis d&#039;experts indépendants - Comparatifs intelligents - Outils gratuits en ligne. Déjà 3 millions d&#039;utilisateurs.\" />\\n\\t<meta property=\"og:url\" content=\"https://www.coover.fr/modeles/creation-entreprise/statuts-eurl\" />\\n\\t<meta property=\"og:site_name\" content=\"Coover\" />\\n\\t<meta property=\"article:modified_time\" content=\"2020-10-23T14:27:23+00:00\" />\\n\\t<meta property=\"og:image\" content=\"https://www.coover.fr/wp-content/uploads/2020/08/statuts-eurl-1024x678.png\" />\\n\\t<meta name=\"twitter:card\" content=\"summary_large_image\" />\\n\\t<meta name=\"twitter:label1\" content=\"Durée de lecture est.\" />\\n\\t<meta name=\"twitter:data1\" content=\"3 minutes\" />\\n\\t<script type=\"application/ld+json\" class=\"yoast-schema-graph\">{\"@context\":\"https://schema.org\",\"@graph\":[{\"@type\":\"Organization\",\"@id\":\"https://www.coover.fr/#organization\",\"name\":\"Coover\",\"url\":\"https://www.coover.fr/\",\"sameAs\":[],\"logo\":{\"@type\":\"ImageObject\",\"@id\":\"https://www.coover.fr/#logo\",\"inLanguage\":\"fr-FR\",\"url\":\"https://www.coover.fr/wp-content/uploads/2019/05/favicon-coover-high-quality.png\",\"contentUrl\":\"https://www.coover.fr/wp-content/uploads/2019/05/favicon-coover-high-quality.png\",\"width\":899,\"height\":898,\"caption\":\"Coover\"},\"image\":{\"@id\":\"https://www.coover.fr/#logo\"}},{\"@type\":\"WebSite\",\"@id\":\"https://www.coover.fr/#website\",\"url\":\"https://www.coover.fr/\",\"name\":\"Coover\",\"description\":\"Courtier d&#039;assurance professionnelle\",\"publisher\":{\"@id\":\"https://www.coover.fr/#organization\"},\"potentialAction\":[{\"@type\":\"SearchAction\",\"target\":\"https://www.coover.fr/?s={search_term_string}\",\"query-input\":\"required name=search_term_string\"}],\"inLanguage\":\"fr-FR\"},{\"@type\":\"ImageObject\",\"@id\":\"https://www.coover.fr/modeles/creation-entreprise/statuts-eurl#primaryimage\",\"inLanguage\":\"fr-FR\",\"url\":\"https://www.coover.fr/wp-content/uploads/2020/08/statuts-eurl.png\",\"contentUrl\":\"https://www.coover.fr/wp-content/uploads/2020/08/statuts-eurl.png\",\"width\":1204,\"height\":797,\"caption\":\"statuts eurl\"},{\"@type\":\"WebPage\",\"@id\":\"https://www.coover.fr/modeles/creation-entreprise/statuts-eurl#webpage\",\"url\":\"https://www.coover.fr/modeles/creation-entreprise/statuts-eurl\",\"name\":\"Mod\\\\u00e8le gratuit de statuts EURL (Mise \\\\u00e0 jour 2021)\",\"isPartOf\":{\"@id\":\"https://www.coover.fr/#website\"},\"primaryImageOfPage\":{\"@id\":\"https://www.coover.fr/modeles/creation-entreprise/statuts-eurl#primaryimage\"},\"datePublished\":\"2020-08-21T14:21:10+00:00\",\"dateModified\":\"2020-10-23T14:27:23+00:00\",\"description\":\"Mod\\\\u00e8le gratuit de statuts EURL \\\\u1405 Conseils et avis d\\'experts ind\\\\u00e9pendants - Comparatifs intelligents - Outils gratuits en ligne. D\\\\u00e9j\\\\u00e0 3 millions d\\'utilisateurs.\",\"breadcrumb\":{\"@id\":\"https://www.coover.fr/modeles/creation-entreprise/statuts-eurl#breadcrumb\"},\"inLanguage\":\"fr-FR\",\"potentialAction\":[{\"@type\":\"ReadAction\",\"target\":[\"https://www.coover.fr/modeles/creation-entreprise/statuts-eurl\"]}]},{\"@type\":\"BreadcrumbList\",\"@id\":\"https://www.coover.fr/modeles/creation-entreprise/statuts-eurl#breadcrumb\",\"itemListElement\":[{\"@type\":\"ListItem\",\"position\":1,\"item\":{\"@type\":\"WebPage\",\"@id\":\"https://www.coover.fr/\",\"url\":\"https://www.coover.fr/\",\"name\":\"Coover\"}},{\"@type\":\"ListItem\",\"position\":2,\"item\":{\"@type\":\"WebPage\",\"@id\":\"https://www.coover.fr/modeles\",\"url\":\"https://www.coover.fr/modeles\",\"name\":\"Mod\\\\u00e8les\"}},{\"@type\":\"ListItem\",\"position\":3,\"item\":{\"@type\":\"WebPage\",\"@id\":\"https://www.coover.fr/modeles/creation-entreprise\",\"url\":\"https://www.coover.fr/modeles/creation-entreprise\",\"name\":\"Cr\\\\u00e9ation d\\'entreprise\"}},{\"@type\":\"ListItem\",\"position\":4,\"item\":{\"@id\":\"https://www.coover.fr/modeles/creation-entreprise/statuts-eurl#webpage\"}}]}]}</script>\\n\\t<!-- / Yoast SEO plugin. -->\\n\\n\\n<link rel=\\'dns-prefetch\\' href=\\'//s.w.org\\' />\\n<link rel=\\'dns-prefetch\\' href=\\'//static.coover.fr.s3.amazonaws.com\\' />\\n<link rel=\"alternate\" type=\"application/rss+xml\" title=\"Coover &raquo; Flux\" href=\"https://www.coover.fr/feed\" />\\n<link rel=\"alternate\" type=\"application/rss+xml\" title=\"Coover &raquo; Flux des commentaires\" href=\"https://www.coover.fr/comments/feed\" />\\n<link rel=\"alternate\" type=\"application/rss+xml\" title=\"Coover &raquo; Modèle gratuit de statuts EURL Flux des commentaires\" href=\"https://www.coover.fr/modeles/creation-entreprise/statuts-eurl/feed\" />\\n<style id=\"kadence_blocks_palette_css\">:root .has-kb-palette-1-color{color:#888888}:root .has-kb-palette-1-background-color{background-color:#888888}</style><link rel=\"https://api.w.org/\" href=\"https://www.coover.fr/wp-json/\" /><link rel=\"alternate\" type=\"application/json\" href=\"https://www.coover.fr/wp-json/wp/v2/pages/37963\" /><link rel=\"EditURI\" type=\"application/rsd+xml\" title=\"RSD\" href=\"https://www.coover.fr/xmlrpc.php?rsd\" />\\n<link rel=\"wlwmanifest\" type=\"application/wlwmanifest+xml\" href=\"https://www.coover.fr/wp-includes/wlwmanifest.xml\" /> \\n<meta name=\"generator\" content=\"WordPress 5.7.2\" />\\n<link rel=\\'shortlink\\' href=\\'https://www.coover.fr/?p=37963\\' />\\n<link rel=\"alternate\" type=\"application/json+oembed\" href=\"https://www.coover.fr/wp-json/oembed/1.0/embed?url=https%3A%2F%2Fwww.coover.fr%2Fmodeles%2Fcreation-entreprise%2Fstatuts-eurl\" />\\n<link rel=\"alternate\" type=\"text/xml+oembed\" href=\"https://www.coover.fr/wp-json/oembed/1.0/embed?url=https%3A%2F%2Fwww.coover.fr%2Fmodeles%2Fcreation-entreprise%2Fstatuts-eurl&#038;format=xml\" />\\n<style type=\"text/css\">\\n.no-js .native-lazyload-js-fallback {\\n\\tdisplay: none;\\n}\\n</style>\\n\\t\\t<link rel=\"icon\" href=\"https://www.coover.fr/wp-content/uploads/2020/04/cropped-favicon-32x32.png\" sizes=\"32x32\" />\\n<link rel=\"icon\" href=\"https://www.coover.fr/wp-content/uploads/2020/04/cropped-favicon-192x192.png\" sizes=\"192x192\" />\\n<link rel=\"apple-touch-icon\" href=\"https://www.coover.fr/wp-content/uploads/2020/04/cropped-favicon-180x180.png\" />\\n<meta name=\"msapplication-TileImage\" content=\"https://www.coover.fr/wp-content/uploads/2020/04/cropped-favicon-270x270.png\" />\\n\\t\\t\\t</head>\\n\\n\\t<body class=\"page-template-default page page-id-37963 page-child parent-pageid-14657  \" data-template=\"base.twig\">\\n\\t\\t<!-- Google Tag Manager (noscript) -->\\n\\t\\t<noscript><iframe src=\"https://www.googletagmanager.com/ns.html?id=GTM-53GRC94\"\\n\\t\\t\\t\\t\\t\\t\\t\\t\\t\\t\\theight=\"0\" width=\"0\" style=\"display:none;visibility:hidden\"></iframe></noscript>\\n\\t\\t<!-- End Google Tag Manager (noscript) -->\\n\\t\\t\\t\\t<header class=\"header navbar\">\\n\\t\\t\\t\\t\\t\\t\\t<a class=\"hdr-logo-link\" href=\"https://www.coover.fr\" rel=\"home\">\\n\\t\\t\\t\\t\\t<img src=\"https://www.coover.fr/wp-content/themes/coover/static/img/logo-header.png\" class=\"header-logo header-logo-coloured\" alt=\"Logo Coover\" />\\n\\t\\t\\t\\t\\t<img src=\"https://www.coover.fr/wp-content/themes/coover/static/img/logo-header-white.png\" class=\"header-logo header-logo-white\" alt=\"Logo Coover\" />\\n\\t\\t\\t\\t</a>\\n\\t\\t\\t\\t<nav id=\"nav-main\" class=\"nav-main\" role=\"navigation\">\\n\\t\\t\\t\\t\\t\\t<ul>\\n\\t\\t\\t<li class=\" menu-item menu-item-type-post_type menu-item-object-page menu-item-48975 menu-item-has-children\">\\n\\t\\t\\t<a href=\"https://www.coover.fr/assurances\"  >\\n\\t\\t\\t\\tNos assurances\\n\\t\\t\\t\\t\\t\\t\\t\\t\\t<span class=\"triangle\"></span>\\n\\t\\t\\t\\t\\t\\t\\t</a>\\n\\t\\t\\t\\t\\t\\t\\t\\t<ul>\\n\\t\\t\\t<li class=\" menu-item menu-item-type-post_type menu-item-object-page menu-item-13027\">\\n\\t\\t\\t<a href=\"https://www.coover.fr/mutuelle\"  >\\n\\t\\t\\t\\tMutuelle santé\\n\\t\\t\\t\\t\\t\\t\\t</a>\\n\\t\\t\\t\\t\\t</li>\\n\\t\\t\\t<li class=\" menu-item menu-item-type-post_type menu-item-object-page menu-item-5528\">\\n\\t\\t\\t<a href=\"https://www.coover.fr/responsabilite-civile-pro\"  >\\n\\t\\t\\t\\tRC Pro\\n\\t\\t\\t\\t\\t\\t\\t</a>\\n\\t\\t\\t\\t\\t</li>\\n\\t\\t\\t<li class=\" menu-item menu-item-type-post_type menu-item-object-page menu-item-5521\">\\n\\t\\t\\t<a href=\"https://www.coover.fr/multirisque\"  >\\n\\t\\t\\t\\tMultirisque pro\\n\\t\\t\\t\\t\\t\\t\\t</a>\\n\\t\\t\\t\\t\\t</li>\\n\\t\\t\\t<li class=\" menu-item menu-item-type-post_type menu-item-object-page menu-item-13466\">\\n\\t\\t\\t<a href=\"https://www.coover.fr/prevoyance\"  >\\n\\t\\t\\t\\tPrévoyance\\n\\t\\t\\t\\t\\t\\t\\t</a>\\n\\t\\t\\t\\t\\t</li>\\n\\t\\t\\t<li class=\" menu-item menu-item-type-custom menu-item-object-custom menu-item-30973\">\\n\\t\\t\\t<a href=\"https://www.coover.fr/garantie-decennale\"  >\\n\\t\\t\\t\\tAssurance décennale\\n\\t\\t\\t\\t\\t\\t\\t</a>\\n\\t\\t\\t\\t\\t</li>\\n\\t\\t\\t<li class=\" menu-item menu-item-type-custom menu-item-object-custom menu-item-29314\">\\n\\t\\t\\t<a href=\"https://www.coover.fr/assurances-pro\"  >\\n\\t\\t\\t\\tAssurances professionnelles\\n\\t\\t\\t\\t\\t\\t\\t</a>\\n\\t\\t\\t\\t\\t</li>\\n\\t\\t</ul>\\n\\t\\t\\t\\t\\t</li>\\n\\t\\t\\t<li class=\" menu-item menu-item-type-post_type menu-item-object-page menu-item-447 menu-item-has-children\">\\n\\t\\t\\t<a href=\"https://www.coover.fr/guides-professionnels\"  >\\n\\t\\t\\t\\tNos guides\\n\\t\\t\\t\\t\\t\\t\\t\\t\\t<span class=\"triangle\"></span>\\n\\t\\t\\t\\t\\t\\t\\t</a>\\n\\t\\t\\t\\t\\t\\t\\t\\t<ul>\\n\\t\\t\\t<li class=\" menu-item menu-item-type-post_type menu-item-object-page menu-item-448\">\\n\\t\\t\\t<a href=\"https://www.coover.fr/creation-entreprise\"  >\\n\\t\\t\\t\\tCréation entreprise\\n\\t\\t\\t\\t\\t\\t\\t</a>\\n\\t\\t\\t\\t\\t</li>\\n\\t\\t\\t<li class=\" menu-item menu-item-type-post_type menu-item-object-page menu-item-2279\">\\n\\t\\t\\t<a href=\"https://www.coover.fr/banque-pro\"  >\\n\\t\\t\\t\\tBanques professionnelles\\n\\t\\t\\t\\t\\t\\t\\t</a>\\n\\t\\t\\t\\t\\t</li>\\n\\t\\t\\t<li class=\" menu-item menu-item-type-post_type menu-item-object-page menu-item-9321\">\\n\\t\\t\\t<a href=\"https://www.coover.fr/expert-comptable\"  >\\n\\t\\t\\t\\tExpert comptable\\n\\t\\t\\t\\t\\t\\t\\t</a>\\n\\t\\t\\t\\t\\t</li>\\n\\t\\t\\t<li class=\" menu-item menu-item-type-post_type menu-item-object-page menu-item-2110\">\\n\\t\\t\\t<a href=\"https://www.coover.fr/code-ape-naf\"  >\\n\\t\\t\\t\\tCode APE NAF\\n\\t\\t\\t\\t\\t\\t\\t</a>\\n\\t\\t\\t\\t\\t</li>\\n\\t\\t\\t<li class=\" menu-item menu-item-type-post_type menu-item-object-page menu-item-4434\">\\n\\t\\t\\t<a href=\"https://www.coover.fr/conventions-collectives\"  >\\n\\t\\t\\t\\tConventions collectives\\n\\t\\t\\t\\t\\t\\t\\t</a>\\n\\t\\t\\t\\t\\t</li>\\n\\t\\t\\t<li class=\" menu-item menu-item-type-custom menu-item-object-custom menu-item-29315\">\\n\\t\\t\\t<a href=\"https://www.coover.fr/guides-professionnels\"  >\\n\\t\\t\\t\\tAutres guides\\n\\t\\t\\t\\t\\t\\t\\t</a>\\n\\t\\t\\t\\t\\t</li>\\n\\t\\t</ul>\\n\\t\\t\\t\\t\\t</li>\\n\\t\\t\\t<li class=\" menu-item menu-item-type-post_type menu-item-object-page menu-item-468 menu-item-has-children\">\\n\\t\\t\\t<a href=\"https://www.coover.fr/outils\"  >\\n\\t\\t\\t\\tNos outils\\n\\t\\t\\t\\t\\t\\t\\t\\t\\t<span class=\"triangle\"></span>\\n\\t\\t\\t\\t\\t\\t\\t</a>\\n\\t\\t\\t\\t\\t\\t\\t\\t<ul>\\n\\t\\t\\t<li class=\" menu-item menu-item-type-post_type menu-item-object-page menu-item-469\">\\n\\t\\t\\t<a href=\"https://www.coover.fr/outils/modele-devis\"  >\\n\\t\\t\\t\\tGénérateur de devis\\n\\t\\t\\t\\t\\t\\t\\t</a>\\n\\t\\t\\t\\t\\t</li>\\n\\t\\t\\t<li class=\" menu-item menu-item-type-post_type menu-item-object-page menu-item-470\">\\n\\t\\t\\t<a href=\"https://www.coover.fr/outils/modele-facture\"  >\\n\\t\\t\\t\\tGénérateur de facture\\n\\t\\t\\t\\t\\t\\t\\t</a>\\n\\t\\t\\t\\t\\t</li>\\n\\t\\t\\t<li class=\" menu-item menu-item-type-post_type menu-item-object-page menu-item-1406\">\\n\\t\\t\\t<a href=\"https://www.coover.fr/outils/calculatrice-tva\"  >\\n\\t\\t\\t\\tCalculatrice TVA\\n\\t\\t\\t\\t\\t\\t\\t</a>\\n\\t\\t\\t\\t\\t</li>\\n\\t\\t\\t<li class=\" menu-item menu-item-type-post_type menu-item-object-page menu-item-1505\">\\n\\t\\t\\t<a href=\"https://www.coover.fr/outils/salaire-brut-en-net\"  >\\n\\t\\t\\t\\tSalaire brut en net\\n\\t\\t\\t\\t\\t\\t\\t</a>\\n\\t\\t\\t\\t\\t</li>\\n\\t\\t\\t<li class=\" menu-item menu-item-type-post_type menu-item-object-page menu-item-2859\">\\n\\t\\t\\t<a href=\"https://www.coover.fr/outils/jours-ouvres\"  >\\n\\t\\t\\t\\tCalcul jours ouvrés\\n\\t\\t\\t\\t\\t\\t\\t</a>\\n\\t\\t\\t\\t\\t</li>\\n\\t\\t\\t<li class=\" menu-item menu-item-type-post_type menu-item-object-page menu-item-5883\">\\n\\t\\t\\t<a href=\"https://www.coover.fr/outils/cotisations-sociales-auto-entrepreneur\"  >\\n\\t\\t\\t\\tCotisations sociales auto entrepreneur\\n\\t\\t\\t\\t\\t\\t\\t</a>\\n\\t\\t\\t\\t\\t</li>\\n\\t\\t\\t<li class=\" menu-item menu-item-type-post_type menu-item-object-page menu-item-6428\">\\n\\t\\t\\t<a href=\"https://www.coover.fr/outils/charges-sociales-cout-salarie\"  >\\n\\t\\t\\t\\tCharges sociales et coût d\\'un salarié\\n\\t\\t\\t\\t\\t\\t\\t</a>\\n\\t\\t\\t\\t\\t</li>\\n\\t\\t\\t<li class=\" menu-item menu-item-type-post_type menu-item-object-page current-page-ancestor menu-item-13533\">\\n\\t\\t\\t<a href=\"https://www.coover.fr/modeles\"  >\\n\\t\\t\\t\\tNos modèles\\n\\t\\t\\t\\t\\t\\t\\t</a>\\n\\t\\t\\t\\t\\t</li>\\n\\t\\t\\t<li class=\" menu-item menu-item-type-custom menu-item-object-custom menu-item-29316\">\\n\\t\\t\\t<a href=\"https://www.coover.fr/outils\"  >\\n\\t\\t\\t\\tAutres outils\\n\\t\\t\\t\\t\\t\\t\\t</a>\\n\\t\\t\\t\\t\\t</li>\\n\\t\\t</ul>\\n\\t\\t\\t\\t\\t</li>\\n\\t\\t\\t<li class=\" menu-item menu-item-type-post_type menu-item-object-page menu-item-410 menu-item-has-children\">\\n\\t\\t\\t<a href=\"https://www.coover.fr/qui-sommes-nous\"  >\\n\\t\\t\\t\\tÀ propos\\n\\t\\t\\t\\t\\t\\t\\t\\t\\t<span class=\"triangle\"></span>\\n\\t\\t\\t\\t\\t\\t\\t</a>\\n\\t\\t\\t\\t\\t\\t\\t\\t<ul>\\n\\t\\t\\t<li class=\" menu-item menu-item-type-post_type menu-item-object-page menu-item-192\">\\n\\t\\t\\t<a href=\"https://www.coover.fr/qui-sommes-nous\"  >\\n\\t\\t\\t\\tQui sommes-nous ?\\n\\t\\t\\t\\t\\t\\t\\t</a>\\n\\t\\t\\t\\t\\t</li>\\n\\t\\t\\t<li class=\" menu-item menu-item-type-post_type menu-item-object-page menu-item-28079\">\\n\\t\\t\\t<a href=\"https://www.coover.fr/presse\"  >\\n\\t\\t\\t\\tPresse\\n\\t\\t\\t\\t\\t\\t\\t</a>\\n\\t\\t\\t\\t\\t</li>\\n\\t\\t\\t<li class=\" menu-item menu-item-type-post_type menu-item-object-page menu-item-6798\">\\n\\t\\t\\t<a href=\"https://www.coover.fr/mentions-legales\"  >\\n\\t\\t\\t\\tMentions Légales\\n\\t\\t\\t\\t\\t\\t\\t</a>\\n\\t\\t\\t\\t\\t</li>\\n\\t\\t\\t<li class=\" menu-item menu-item-type-post_type menu-item-object-page menu-item-49123\">\\n\\t\\t\\t<a href=\"https://www.coover.fr/partenariats\"  >\\n\\t\\t\\t\\tDevenir partenaire de Coover\\n\\t\\t\\t\\t\\t\\t\\t</a>\\n\\t\\t\\t\\t\\t</li>\\n\\t\\t</ul>\\n\\t\\t\\t\\t\\t</li>\\n\\t\\t\\t<li class=\" menu-item menu-item-type-post_type menu-item-object-page menu-item-8981\">\\n\\t\\t\\t<a href=\"https://www.coover.fr/contact\"  >\\n\\t\\t\\t\\tContact\\n\\t\\t\\t\\t\\t\\t\\t</a>\\n\\t\\t\\t\\t\\t</li>\\n\\t\\t\\t<li class=\"btn cta-quote menu-item menu-item-type-custom menu-item-object-custom menu-item-28\">\\n\\t\\t\\t<a href=\"https://app.coover.fr/\" target=\"_blank\" rel=\"noopener\">\\n\\t\\t\\t\\tDEVIS\\n\\t\\t\\t\\t\\t\\t\\t</a>\\n\\t\\t\\t\\t\\t</li>\\n\\t\\t</ul>\\n\\t\\t\\t\\t\\t<button class=\"hamburger hamburger--slider\" type=\"button\">\\n\\t\\t\\t\\t\\t\\t<span class=\"hamburger-box\">\\n\\t\\t\\t\\t\\t\\t\\t<span class=\"hamburger-inner\"></span>\\n\\t\\t\\t\\t\\t\\t</span>\\n\\t\\t\\t\\t\\t</button>\\n\\t\\t\\t\\t</nav>\\n\\t\\t\\t\\t\\t\\t\\t\\t\\t</header>\\n\\n\\t\\t<section id=\"content\" role=\"main\" class=\"content-wrapper\">\\n\\t\\t\\t\\t\\t\\t<div class=\"wrapper \">\\n\\t\\t\\t\\t\\t<div id=\"breadcrumbs-container\"><p id=\"breadcrumbs\"><span><span><a href=\"https://www.coover.fr/\">Coover</a> » <span><a href=\"https://www.coover.fr/modeles\">Modèles</a> » <span><a href=\"https://www.coover.fr/modeles/creation-entreprise\">Création d\\'entreprise</a> » <strong class=\"breadcrumb_last\" aria-current=\"page\">Modèle gratuit de statuts EURL</strong></span></span></span></span></p></div>\\n\\t<article class=\"article post-type-page has-toc\" id=\"post-37963\">\\n\\n\\t\\t\\n    \\n    \\n\\t\\t<section class=\"article-content\">\\n\\t\\t\\t\\t\\t\\t\\t<h1 class=\"article-h1\">Modèle gratuit de statuts EURL</h1>\\n\\t\\t\\t\\n\\t\\t\\t\\t\\t\\t\\t\\t\\t<div class=\"article-body\">\\n\\t\\t\\t\\t\\n<div class=\"wp-block-group\"><div class=\"wp-block-group__inner-container\">\\n<p><strong>Si vous créez une EURL vous aurez besoin de rédiger vos statuts. Plutôt que de faire appel à un avocat, vous pouvez utiliser un modèle de statuts EURL. Attention, de nombreux sites proposent des modèles de statuts EURL valables mais PAYANTS.</strong></p>\\n\\n\\n\\n<p><strong>Coover met à votre disposition un modèle de statuts EURL GRATUIT rédigé par notre département juridique. Il est disponible en format Word. Vous pouvez le télécharger gratuitement et sans laisser vos coordonnées.</strong></p>\\n\\n\\n\\n<div class=\"wp-block-mars-information icon-info\"><i class=\"icon\"></i><p>Pour trouver un modèle de statuts réellement adapté à votre société, vous pouvez également reprendre et adapter les statuts d\\'une entreprise similaire. Sur le site pappers.fr, <a href=\"https://www.coover.fr/partenaires/pappers\" target=\"_blank\" rel=\"noreferrer noopener\">recherchez et consultez gratuitement les statuts de toutes les EURL françaises</a>.</p></div>\\n\\n\\n\\n<div id=\"ez-toc-container\" class=\"ez-toc-v2_0_17 counter-hierarchy ez-toc-grey\">\\n<div class=\"ez-toc-title-container\">\\n<p class=\"ez-toc-title\">Sommaire</p>\\n<span class=\"ez-toc-title-toggle\"></span></div>\\n<nav><ul class=\"ez-toc-list ez-toc-list-level-1\"><li class=\"ez-toc-page-1 ez-toc-heading-level-2\"><a class=\"ez-toc-link ez-toc-heading-1\" href=\"#Notre-modele-de-statuts-EURL-gratuit\" title=\"Notre modèle de statuts EURL gratuit&nbsp; \">Notre modèle de statuts EURL gratuit&nbsp; </a></li><li class=\"ez-toc-page-1 ez-toc-heading-level-2\"><a class=\"ez-toc-link ez-toc-heading-2\" href=\"#Statuts-EURL-mentions-obligatoires\" title=\"Statuts EURL mentions obligatoires\">Statuts EURL mentions obligatoires</a></li><li class=\"ez-toc-page-1 ez-toc-heading-level-2\"><a class=\"ez-toc-link ez-toc-heading-3\" href=\"#Comment-utiliser-notre-modele-de-statuts-EURL\" title=\"Comment utiliser notre modèle de statuts EURL ?\">Comment utiliser notre modèle de statuts EURL ?</a></li><li class=\"ez-toc-page-1 ez-toc-heading-level-2\"><a class=\"ez-toc-link ez-toc-heading-4\" href=\"#Statuts-EURL-les-3-pieges-a-eviter\" title=\"Statuts EURL : les 3 pièges à éviter\">Statuts EURL : les 3 pièges à éviter</a></li></ul></nav></div>\\n<h2><span class=\"ez-toc-section\" id=\"Notre-modele-de-statuts-EURL-gratuit\"></span>Notre modèle de statuts EURL gratuit&nbsp; <span class=\"ez-toc-section-end\"></span></h2>\\n\\n\\n\\n<p>Pour vous faire gagner du temps et de l’argent, nous mettons à votre disposition un modèle de statuts EURL gratuit au format word. </p>\\n\\n\\n\\n<div class=\"wp-block-image\"><figure class=\"aligncenter size-large is-resized\"><a href=\"https://www.coover.fr/wp-content/uploads/2020/08/Statuts-EURL-1.docx\" target=\"_blank\" rel=\"noopener noreferrer\"><img loading=\"lazy\" src=\"https://www.coover.fr/wp-content/uploads/2020/08/statuts-eurl-1024x678.png\" alt=\"Modèle de statuts EURL\\n\" class=\"wp-image-37965\" width=\"756\" height=\"500\" srcset=\"https://www.coover.fr/wp-content/uploads/2020/08/statuts-eurl-1024x678.png 1024w, https://www.coover.fr/wp-content/uploads/2020/08/statuts-eurl-300x199.png 300w, https://www.coover.fr/wp-content/uploads/2020/08/statuts-eurl-768x508.png 768w, https://www.coover.fr/wp-content/uploads/2020/08/statuts-eurl.png 1204w\" sizes=\"(max-width: 756px) 100vw, 756px\" /></a></figure></div>\\n\\n\\n\\n<p>Vous pouvez télécharger notre modèle de statuts EURL anonymement et gratuitement.</p>\\n\\n\\n\\n<div class=\"wp-block-file\"><a href=\"https://www.coover.fr/wp-content/uploads/2020/08/Statuts-EURL-1.docx\"><strong>Modèle de Statuts EURL gratuits</strong></a><a href=\"https://www.coover.fr/wp-content/uploads/2020/08/Statuts-EURL-1.docx\" class=\"wp-block-file__button\" download>Télécharger</a></div>\\n\\n\\n\\n<div class=\"wp-block-group is-style-enhanced has-blue-background-color has-background\"><div class=\"wp-block-group__inner-container\">\\n<p style=\"font-size:30px\"><strong>Besoin d\\'aide pour créer ou gérer votre société ?</strong></p>\\n\\n\\n\\n<p class=\"mb3 has-white-color has-text-color\"><strong>Simplifiez vous la vie et économisez en moyenne 40% sur vos frais en utilisant un service juridique en ligne</strong>.</p>\\n\\n\\n\\n<div class=\"wp-block-buttons aligncenter\">\\n<a class=\"wp-block-button wp-block-button__link is-style-CTA\" href=\"https://www.coover.fr/creation-entreprise/en-ligne\">Accéder à notre comparatif</a>\\n</div>\\n\\n\\n\\n<div style=\"height:20px\" aria-hidden=\"true\" class=\"wp-block-spacer\"></div>\\n</div></div>\\n\\n\\n\\n<h2><span class=\"ez-toc-section\" id=\"Statuts-EURL-mentions-obligatoires\"></span>Statuts EURL mentions obligatoires<span class=\"ez-toc-section-end\"></span></h2>\\n\\n\\n\\n<p><strong>Si vous souhaitez créer une EURL (Entreprise Unipersonnelle à Responsabilité Limitée), vous devez obligatoirement en rédiger les statuts. </strong>Une EURL est en fait une SARL avec un unique associé. Vous pouvez donc aussi choisir d\\'utiliser notre modèle de statuts de SARL pour créer votre EURL. </p>\\n\\n\\n\\n<p>L\\'EURL présente comme avantage de pouvoir être constituée avec peu de capitaux. De plus, si vous créez une EURL, votre responsabilité sera limitée au montant de vos apports.</p>\\n\\n\\n\\n<p>Les statuts de votre EURL vont encadrer votre activité et déterminer son organisation. Il est donc très important de bien faire attention à la rédaction des statuts d\\'une EURL.</p>\\n\\n\\n\\n<p><strong>Ainsi, certaines clauses doivent obligatoirement être présentes dans vos statuts EURL : </strong></p>\\n\\n\\n\\n<ul><li>la forme sociale (en l\\'occurrence EURL) ;</li><li>la durée de l\\'entreprise (au maximum 99 ans) ;</li><li>le nom de l\\'entreprise ;</li><li>le siège social ;</li><li>le montant du capital social ;</li><li>l\\'évaluation des apports ; </li><li>la date de clôture de l\\'exercice ;</li><li>les modalités de dépôt des fonds correspondant aux apports en numéraires.</li></ul>\\n\\n\\n\\n<div class=\"wp-block-mars-information icon-info\"><i class=\"icon\"></i><p>Les statuts de EURL sont difficiles à appréhender. C’est pourquoi, utiliser un modèle de statuts EURL gratuit vous permettra de gagner du temps et de ne pas dépenser d’argent en frais juridiques.</p></div>\\n\\n\\n\\n<p>Vous pouvez aussi <a href=\"https://www.coover.fr/creation-entreprise/eurl-en-ligne\">créer une EURL en ligne</a> pour être accompagné dans vos démarches et ce sans vous ruiner. </p>\\n\\n\\n\\n<h2><span class=\"ez-toc-section\" id=\"Comment-utiliser-notre-modele-de-statuts-EURL\"></span>Comment utiliser notre modèle de statuts EURL ?<span class=\"ez-toc-section-end\"></span></h2>\\n\\n\\n\\n<p><strong>Pour utiliser notre modèle de statuts EURL gratuit rien de plus simple</strong>&nbsp;! Notre exemple de statuts EURL est déjà pré-remplit et est annoté d’indications pour vous guider tout au long de la rédaction. De plus, notre modèle de statuts EURL vous indique les clauses facultatives et les clauses obligatoires pour créer votre EURL.</p>\\n\\n\\n\\n<p><strong>Il est donc très important de ne pas supprimer les clauses obligatoires, sans quoi la création de votre EURL pourra être compromise.</strong></p>\\n\\n\\n\\n<div class=\"wp-block-mars-information icon-arrow\"><i class=\"icon\"></i><p>Pour gagner en rapidité vous avez simplement à suivre le code couleur suivant :<br/>– <strong>indications surlignées en rouge</strong> : conseils pour remplir vos statuts EURL. Elles sont donc à supprimer.<br/>– <strong>indications surlignées en jaune</strong> : à modifier pour adapter les statuts EURL à votre société.</p></div>\\n\\n\\n\\n<h2><span class=\"ez-toc-section\" id=\"Statuts-EURL-les-3-pieges-a-eviter\"></span>Statuts EURL : les 3 pièges à éviter<span class=\"ez-toc-section-end\"></span></h2>\\n\\n\\n\\n<p>Il existe de nombreux sites qui proposent des modèles de statuts EURL, mais prenez garde aux éléments suivants :</p>\\n\\n\\n\\n<ul><li><strong>certains sites voudront vous faire payer les modèles de statuts EURL</strong>. Chez Coover nous pensons qu’un modèle de document doit être gratuit.</li><li><strong>vous devrez parfois compléter votre adresse email pour recevoir les statuts. Vous recevrez par la suite les statuts mais aussi de nombreuses propositions commerciales</strong>. Chez Coover, nous ne vous demandons pas votre adresse email.</li><li><strong>tous les exemples de statuts ne sont pas rédigés par des professionnels et par conséquent ils ne vous protégeront pas assez bien</strong>. Chez Coover, nous avons fait appel à des experts juridiques pour vous offrir un modèle de qualité et conforme.</li></ul>\\n\\n\\n\\n<div class=\"wp-block-mars-information icon-check\"><i class=\"icon\"></i><p>Notre modèle de statuts a été rédigé par notre équipe juridique et est donc 100% conforme</p></div>\\n</div></div>\\n<!-- Rate my Post Plugin --><div  class=\"rmp-widgets-container rmp-wp-plugin rmp-main-container js-rmp-widgets-container js-rmp-widgets-container--37963\"  data-post-id=\"37963\">    <!-- Rating widget -->  <div class=\"rmp-rating-widget js-rmp-rating-widget\">          <p class=\"rmp-heading rmp-heading--title\">        Notez cet article      </p>            <div class=\"rmp-rating-widget__icons\">      <ul class=\"rmp-rating-widget__icons-list js-rmp-rating-icons-list\">                  <li class=\"rmp-rating-widget__icons-list__icon js-rmp-rating-item\" data-descriptive-rating=\"\" data-value=\"1\">            <i class=\"js-rmp-rating-icon rmp-icon rmp-icon--ratings rmp-icon--star rmp-icon--full-highlight\"></i>          </li>                  <li class=\"rmp-rating-widget__icons-list__icon js-rmp-rating-item\" data-descriptive-rating=\"\" data-value=\"2\">            <i class=\"js-rmp-rating-icon rmp-icon rmp-icon--ratings rmp-icon--star rmp-icon--full-highlight\"></i>          </li>                  <li class=\"rmp-rating-widget__icons-list__icon js-rmp-rating-item\" data-descriptive-rating=\"\" data-value=\"3\">            <i class=\"js-rmp-rating-icon rmp-icon rmp-icon--ratings rmp-icon--star rmp-icon--full-highlight\"></i>          </li>                  <li class=\"rmp-rating-widget__icons-list__icon js-rmp-rating-item\" data-descriptive-rating=\"\" data-value=\"4\">            <i class=\"js-rmp-rating-icon rmp-icon rmp-icon--ratings rmp-icon--star rmp-icon--full-highlight\"></i>          </li>                  <li class=\"rmp-rating-widget__icons-list__icon js-rmp-rating-item\" data-descriptive-rating=\"\" data-value=\"5\">            <i class=\"js-rmp-rating-icon rmp-icon rmp-icon--ratings rmp-icon--star \"></i>          </li>              </ul>    </div>    <p class=\"rmp-rating-widget__hover-text js-rmp-hover-text\"></p>    <button class=\"rmp-rating-widget__submit-btn rmp-btn js-submit-rating-btn\">      Submit Rating    </button>    <p class=\"rmp-rating-widget__results js-rmp-results \">      Note moyenne <span class=\"rmp-rating-widget__results__rating js-rmp-avg-rating\">4</span> / 5. Votes : <span class=\"rmp-rating-widget__results__votes js-rmp-vote-count\">8</span>    </p>    <p class=\"rmp-rating-widget__not-rated js-rmp-not-rated rmp-rating-widget__not-rated--hidden\">          </p>    <p class=\"rmp-rating-widget__msg js-rmp-msg\"></p>  </div>  <!--Structured data -->        </div>\\n        <div class=\\'yarpp yarpp-related yarpp-related-website yarpp-template-list\\'>\\n<!-- YARPP List -->\\n<h3>Sur le même thème :</h3><ul>\\n<li><a href=\"https://www.coover.fr/modeles/creation-entreprise/statuts-sas\" rel=\"bookmark\" title=\"Modèle gratuit statuts SAS\">Modèle gratuit statuts SAS </a></li>\\n<li><a href=\"https://www.coover.fr/modeles/creation-entreprise/statuts-sasu\" rel=\"bookmark\" title=\"Modèle gratuit statuts SASU\">Modèle gratuit statuts SASU </a></li>\\n<li><a href=\"https://www.coover.fr/modeles/gestion-entreprise/augmentation-capital-eurl\" rel=\"bookmark\" title=\"Augmentation du capital : modèle gratuit pour EURL\">Augmentation du capital : modèle gratuit pour EURL </a></li>\\n<li><a href=\"https://www.coover.fr/modeles/creation-entreprise/statuts-sci\" rel=\"bookmark\" title=\"Statuts SCI : notre modèle gratuit\">Statuts SCI : notre modèle gratuit </a></li>\\n<li><a href=\"https://www.coover.fr/modeles/gestion-entreprise/dissolution-eurl\" rel=\"bookmark\" title=\"Dissolution d&#039;EURL : notre modèle gratuit\">Dissolution d\\'EURL : notre modèle gratuit </a></li>\\n<li><a href=\"https://www.coover.fr/modeles/creation-entreprise/statuts-sarl\" rel=\"bookmark\" title=\"Modèle gratuit de statuts SARL\">Modèle gratuit de statuts SARL </a></li>\\n<li><a href=\"https://www.coover.fr/modeles/assurance/modele-declaration-sinistre\" rel=\"bookmark\" title=\"Modèle déclaration sinistre gratuit\">Modèle déclaration sinistre gratuit </a></li>\\n</ul>\\n</div>\\n\\n\\t\\t\\t</div>\\n\\t\\t</section>\\n\\n\\t\\t<section class=\"comment-box\">\\n\\t\\t\\t<div class=\"comments\">\\n\\t\\t\\t\\t\\t\\t\\t</div>\\n\\n\\t\\t\\t\\t\\t\\t\\t<div class=\"comment-form\" id=\"comment-form\">\\n    <h3>\\n        <label for=\"comment\">Posez votre question</label><br>\\n        <span class=\"h4\">Un expert vous répondra</span>\\n    </h3>\\n    <p id=\"reply-text\" style=\"font-style: italic; display: none;\">Ce message est une réponse à <span id=\"reply-name\"></span>. <a href=\"#\" id=\"reply-cancel\">Annuler</a></p>\\n    <form class=\"comment-form\" method=\"post\" action=\"https://www.coover.fr/wp-comments-post.php\">\\n        <textarea id=\"comment\" name=\"comment\" required></textarea>\\n                                <br /><br />\\n            <label for=\"name\">Votre nom</label>\\n            <input id=\"name\" required name=\"author\" type=\"text\" value=\"\" >\\n                            <input name=\"comment_post_ID\" value=\"37963\" type=\"hidden\">\\n                <input name=\"comment_parent\"  value=\"0\" type=\"hidden\">\\n        <br /><br />\\n        <button type=\"submit\" name=\"Submit\" class=\"btn\">Envoyer</button>\\n            </form>\\n</div>\\n\\t\\t\\t\\t\\t</section>\\n\\n\\t\\t\\n\\t</article>\\n\\t\\t\\t</div>\\n\\t\\t\\t\\t\\t</section>\\n\\n\\t\\t\\t\\t\\t<footer id=\"footer\">\\n\\t\\t\\t\\t<div class=\"footer-top\">\\n    <a class=\"hdr-logo-link\" href=\"https://www.coover.fr\" rel=\"home\">\\n        <img src=\"https://www.coover.fr/wp-content/themes/coover/static/img/logo-header-white.png\" alt=\"Logo Coover\" class=\"footer-logo\" />\\n    </a>\\n    <nav>\\n        <ul>\\n                    <li class=\" menu-item menu-item-type-post_type menu-item-object-page menu-item-848\">\\n                <a href=\"https://www.coover.fr/assurances-pro\"  >Assurances professionnelles</a>\\n                            </li>\\n                    <li class=\" menu-item menu-item-type-post_type menu-item-object-page menu-item-850\">\\n                <a href=\"https://www.coover.fr/guides-professionnels\"  >Nos guides</a>\\n                            </li>\\n                    <li class=\" menu-item menu-item-type-post_type menu-item-object-page menu-item-849\">\\n                <a href=\"https://www.coover.fr/outils\"  >Nos outils</a>\\n                            </li>\\n                    <li class=\" menu-item menu-item-type-post_type menu-item-object-page menu-item-58\">\\n                <a href=\"https://www.coover.fr/qui-sommes-nous\"  >Qui sommes-nous ?</a>\\n                            </li>\\n                    <li class=\" menu-item menu-item-type-post_type menu-item-object-page menu-item-8984\">\\n                <a href=\"https://www.coover.fr/contact\"  >Contact</a>\\n                            </li>\\n                </ul>\\n    </nav>\\n</div>\\n<p class=\"h4\">\\n    47 rue Vivienne<br>\\n    75002 PARIS\\n</p>\\n<p class=\"h5\">\\n    Coover est un courtier d’assurances professionnelles qui vous aide à trouver les meilleurs contrats pour votre entreprise.\\n</p>\\t\\t\\t</footer>\\n\\t\\t    <script type=\"text/javascript\">\\n( function() {\\n\\tvar nativeLazyloadInitialize = function() {\\n\\t\\tvar lazyElements, script;\\n\\t\\tif ( \\'loading\\' in HTMLImageElement.prototype ) {\\n\\t\\t\\tlazyElements = [].slice.call( document.querySelectorAll( \\'.native-lazyload-js-fallback\\' ) );\\n\\t\\t\\tlazyElements.forEach( function( element ) {\\n\\t\\t\\t\\tif ( ! element.dataset.src ) {\\n\\t\\t\\t\\t\\treturn;\\n\\t\\t\\t\\t}\\n\\t\\t\\t\\telement.src = element.dataset.src;\\n\\t\\t\\t\\tdelete element.dataset.src;\\n\\t\\t\\t\\tif ( element.dataset.srcset ) {\\n\\t\\t\\t\\t\\telement.srcset = element.dataset.srcset;\\n\\t\\t\\t\\t\\tdelete element.dataset.srcset;\\n\\t\\t\\t\\t}\\n\\t\\t\\t\\tif ( element.dataset.sizes ) {\\n\\t\\t\\t\\t\\telement.sizes = element.dataset.sizes;\\n\\t\\t\\t\\t\\tdelete element.dataset.sizes;\\n\\t\\t\\t\\t}\\n\\t\\t\\t\\telement.classList.remove( \\'native-lazyload-js-fallback\\' );\\n\\t\\t\\t} );\\n\\t\\t} else if ( ! document.querySelector( \\'script#native-lazyload-fallback\\' ) ) {\\n\\t\\t\\tscript = document.createElement( \\'script\\' );\\n\\t\\t\\tscript.id = \\'native-lazyload-fallback\\';\\n\\t\\t\\tscript.type = \\'text/javascript\\';\\n\\t\\t\\tscript.src = \\'https://www.coover.fr/wp-content/plugins/native-lazyload/assets/js/lazyload.js\\';\\n\\t\\t\\tscript.defer = true;\\n\\t\\t\\tdocument.body.appendChild( script );\\n\\t\\t}\\n\\t};\\n\\tif ( document.readyState === \\'complete\\' || document.readyState === \\'interactive\\' ) {\\n\\t\\tnativeLazyloadInitialize();\\n\\t} else {\\n\\t\\twindow.addEventListener( \\'DOMContentLoaded\\', nativeLazyloadInitialize );\\n\\t}\\n}() );\\n</script>\\n\\t\\t<script type=\\'text/javascript\\' id=\\'mars_blocks_front_js-js-extra\\'>\\n/* <![CDATA[ */\\nvar mars_blocks_front_vars = {\"ajax_url\":\"https:\\\\/\\\\/www.coover.fr\\\\/wp-admin\\\\/admin-ajax.php\"};\\n/* ]]> */\\n</script>\\n<script type=\\'text/javascript\\' id=\\'rate-my-post-js-extra\\'>\\n/* <![CDATA[ */\\nvar rmp_frontend = {\"admin_ajax\":\"https:\\\\/\\\\/www.coover.fr\\\\/wp-admin\\\\/admin-ajax.php\",\"postID\":\"37963\",\"noVotes\":\"\",\"cookie\":\"Vous avez d\\\\u00e9j\\\\u00e0 vot\\\\u00e9.\",\"afterVote\":\"Merci !\",\"notShowRating\":\"1\",\"social\":\"1\",\"feedback\":\"1\",\"cookieDisable\":\"1\",\"emptyFeedback\":\"Please insert your feedback in the box above!\",\"hoverTexts\":\"1\",\"preventAccidental\":\"1\",\"grecaptcha\":\"1\",\"siteKey\":\"\",\"votingPriv\":\"1\",\"loggedIn\":\"\",\"positiveThreshold\":\"2\",\"ajaxLoad\":\"1\",\"nonce\":\"3885e3c548\"};\\n/* ]]> */\\n</script>\\n\\n\\t\\t<script async src=\"https://www.coover.fr/wp-content/themes/coover/build/script.js?35q2r1a8qx\"></script>\\n\\t\\t<link rel=\"stylesheet\" href=\"https://use.fontawesome.com/releases/v5.8.1/css/all.css\" integrity=\"sha384-50oBUHEmvpQ+1lW4y57PTFmhCaXp0ML5d60M1M7uH2+nqUivzIebhndOJK28anvf\" crossorigin=\"anonymous\">\\n\\t\\t\\t</body>\\n</html>\\n\\r\\n<!--\\r\\nPerformance optimized by W3 Total Cache. Learn more: https://www.boldgrid.com/w3-total-cache/\\r\\n\\r\\nPage Caching using disk: enhanced \\r\\n\\r\\nServed from: www.coover.fr @ 2021-08-08 19:22:50 by W3 Total Cache\\r\\n-->'"
      ]
     },
     "execution_count": 2,
     "metadata": {},
     "output_type": "execute_result"
    }
   ],
   "source": [
    "#get html code \n",
    "html_page = requests.get(\"https://www.coover.fr/modeles/creation-entreprise/statuts-eurl\")\n",
    "html_page.text"
   ]
  },
  {
   "cell_type": "code",
   "execution_count": 3,
   "metadata": {},
   "outputs": [],
   "source": [
    "#create beautifulsoup objct in order to extrat some useful information\n",
    "site = BeautifulSoup(html_page.text,'html.parser')"
   ]
  },
  {
   "cell_type": "code",
   "execution_count": 4,
   "metadata": {},
   "outputs": [
    {
     "data": {
      "text/plain": [
       "[<a class=\"hdr-logo-link\" href=\"https://www.coover.fr\" rel=\"home\">\n",
       " <img alt=\"Logo Coover\" class=\"header-logo header-logo-coloured\" src=\"https://www.coover.fr/wp-content/themes/coover/static/img/logo-header.png\"/>\n",
       " <img alt=\"Logo Coover\" class=\"header-logo header-logo-white\" src=\"https://www.coover.fr/wp-content/themes/coover/static/img/logo-header-white.png\"/>\n",
       " </a>,\n",
       " <a href=\"https://www.coover.fr/assurances\">\n",
       " \t\t\t\tNos assurances\n",
       " \t\t\t\t\t\t\t\t\t<span class=\"triangle\"></span>\n",
       " </a>,\n",
       " <a href=\"https://www.coover.fr/mutuelle\">\n",
       " \t\t\t\tMutuelle santé\n",
       " \t\t\t\t\t\t\t</a>,\n",
       " <a href=\"https://www.coover.fr/responsabilite-civile-pro\">\n",
       " \t\t\t\tRC Pro\n",
       " \t\t\t\t\t\t\t</a>,\n",
       " <a href=\"https://www.coover.fr/multirisque\">\n",
       " \t\t\t\tMultirisque pro\n",
       " \t\t\t\t\t\t\t</a>,\n",
       " <a href=\"https://www.coover.fr/prevoyance\">\n",
       " \t\t\t\tPrévoyance\n",
       " \t\t\t\t\t\t\t</a>,\n",
       " <a href=\"https://www.coover.fr/garantie-decennale\">\n",
       " \t\t\t\tAssurance décennale\n",
       " \t\t\t\t\t\t\t</a>,\n",
       " <a href=\"https://www.coover.fr/assurances-pro\">\n",
       " \t\t\t\tAssurances professionnelles\n",
       " \t\t\t\t\t\t\t</a>,\n",
       " <a href=\"https://www.coover.fr/guides-professionnels\">\n",
       " \t\t\t\tNos guides\n",
       " \t\t\t\t\t\t\t\t\t<span class=\"triangle\"></span>\n",
       " </a>,\n",
       " <a href=\"https://www.coover.fr/creation-entreprise\">\n",
       " \t\t\t\tCréation entreprise\n",
       " \t\t\t\t\t\t\t</a>,\n",
       " <a href=\"https://www.coover.fr/banque-pro\">\n",
       " \t\t\t\tBanques professionnelles\n",
       " \t\t\t\t\t\t\t</a>,\n",
       " <a href=\"https://www.coover.fr/expert-comptable\">\n",
       " \t\t\t\tExpert comptable\n",
       " \t\t\t\t\t\t\t</a>,\n",
       " <a href=\"https://www.coover.fr/code-ape-naf\">\n",
       " \t\t\t\tCode APE NAF\n",
       " \t\t\t\t\t\t\t</a>,\n",
       " <a href=\"https://www.coover.fr/conventions-collectives\">\n",
       " \t\t\t\tConventions collectives\n",
       " \t\t\t\t\t\t\t</a>,\n",
       " <a href=\"https://www.coover.fr/guides-professionnels\">\n",
       " \t\t\t\tAutres guides\n",
       " \t\t\t\t\t\t\t</a>,\n",
       " <a href=\"https://www.coover.fr/outils\">\n",
       " \t\t\t\tNos outils\n",
       " \t\t\t\t\t\t\t\t\t<span class=\"triangle\"></span>\n",
       " </a>,\n",
       " <a href=\"https://www.coover.fr/outils/modele-devis\">\n",
       " \t\t\t\tGénérateur de devis\n",
       " \t\t\t\t\t\t\t</a>,\n",
       " <a href=\"https://www.coover.fr/outils/modele-facture\">\n",
       " \t\t\t\tGénérateur de facture\n",
       " \t\t\t\t\t\t\t</a>,\n",
       " <a href=\"https://www.coover.fr/outils/calculatrice-tva\">\n",
       " \t\t\t\tCalculatrice TVA\n",
       " \t\t\t\t\t\t\t</a>,\n",
       " <a href=\"https://www.coover.fr/outils/salaire-brut-en-net\">\n",
       " \t\t\t\tSalaire brut en net\n",
       " \t\t\t\t\t\t\t</a>,\n",
       " <a href=\"https://www.coover.fr/outils/jours-ouvres\">\n",
       " \t\t\t\tCalcul jours ouvrés\n",
       " \t\t\t\t\t\t\t</a>,\n",
       " <a href=\"https://www.coover.fr/outils/cotisations-sociales-auto-entrepreneur\">\n",
       " \t\t\t\tCotisations sociales auto entrepreneur\n",
       " \t\t\t\t\t\t\t</a>,\n",
       " <a href=\"https://www.coover.fr/outils/charges-sociales-cout-salarie\">\n",
       " \t\t\t\tCharges sociales et coût d'un salarié\n",
       " \t\t\t\t\t\t\t</a>,\n",
       " <a href=\"https://www.coover.fr/modeles\">\n",
       " \t\t\t\tNos modèles\n",
       " \t\t\t\t\t\t\t</a>,\n",
       " <a href=\"https://www.coover.fr/outils\">\n",
       " \t\t\t\tAutres outils\n",
       " \t\t\t\t\t\t\t</a>,\n",
       " <a href=\"https://www.coover.fr/qui-sommes-nous\">\n",
       " \t\t\t\tÀ propos\n",
       " \t\t\t\t\t\t\t\t\t<span class=\"triangle\"></span>\n",
       " </a>,\n",
       " <a href=\"https://www.coover.fr/qui-sommes-nous\">\n",
       " \t\t\t\tQui sommes-nous ?\n",
       " \t\t\t\t\t\t\t</a>,\n",
       " <a href=\"https://www.coover.fr/presse\">\n",
       " \t\t\t\tPresse\n",
       " \t\t\t\t\t\t\t</a>,\n",
       " <a href=\"https://www.coover.fr/mentions-legales\">\n",
       " \t\t\t\tMentions Légales\n",
       " \t\t\t\t\t\t\t</a>,\n",
       " <a href=\"https://www.coover.fr/partenariats\">\n",
       " \t\t\t\tDevenir partenaire de Coover\n",
       " \t\t\t\t\t\t\t</a>,\n",
       " <a href=\"https://www.coover.fr/contact\">\n",
       " \t\t\t\tContact\n",
       " \t\t\t\t\t\t\t</a>,\n",
       " <a href=\"https://app.coover.fr/\" rel=\"noopener\" target=\"_blank\">\n",
       " \t\t\t\tDEVIS\n",
       " \t\t\t\t\t\t\t</a>,\n",
       " <a href=\"https://www.coover.fr/\">Coover</a>,\n",
       " <a href=\"https://www.coover.fr/modeles\">Modèles</a>,\n",
       " <a href=\"https://www.coover.fr/modeles/creation-entreprise\">Création d'entreprise</a>,\n",
       " <a href=\"https://www.coover.fr/partenaires/pappers\" rel=\"noreferrer noopener\" target=\"_blank\">recherchez et consultez gratuitement les statuts de toutes les EURL françaises</a>,\n",
       " <a class=\"ez-toc-link ez-toc-heading-1\" href=\"#Notre-modele-de-statuts-EURL-gratuit\" title=\"Notre modèle de statuts EURL gratuit  \">Notre modèle de statuts EURL gratuit  </a>,\n",
       " <a class=\"ez-toc-link ez-toc-heading-2\" href=\"#Statuts-EURL-mentions-obligatoires\" title=\"Statuts EURL mentions obligatoires\">Statuts EURL mentions obligatoires</a>,\n",
       " <a class=\"ez-toc-link ez-toc-heading-3\" href=\"#Comment-utiliser-notre-modele-de-statuts-EURL\" title=\"Comment utiliser notre modèle de statuts EURL ?\">Comment utiliser notre modèle de statuts EURL ?</a>,\n",
       " <a class=\"ez-toc-link ez-toc-heading-4\" href=\"#Statuts-EURL-les-3-pieges-a-eviter\" title=\"Statuts EURL : les 3 pièges à éviter\">Statuts EURL : les 3 pièges à éviter</a>,\n",
       " <a href=\"https://www.coover.fr/wp-content/uploads/2020/08/Statuts-EURL-1.docx\" rel=\"noopener noreferrer\" target=\"_blank\"><img alt=\"Modèle de statuts EURL\n",
       " \" class=\"wp-image-37965\" height=\"500\" loading=\"lazy\" sizes=\"(max-width: 756px) 100vw, 756px\" src=\"https://www.coover.fr/wp-content/uploads/2020/08/statuts-eurl-1024x678.png\" srcset=\"https://www.coover.fr/wp-content/uploads/2020/08/statuts-eurl-1024x678.png 1024w, https://www.coover.fr/wp-content/uploads/2020/08/statuts-eurl-300x199.png 300w, https://www.coover.fr/wp-content/uploads/2020/08/statuts-eurl-768x508.png 768w, https://www.coover.fr/wp-content/uploads/2020/08/statuts-eurl.png 1204w\" width=\"756\"/></a>,\n",
       " <a href=\"https://www.coover.fr/wp-content/uploads/2020/08/Statuts-EURL-1.docx\"><strong>Modèle de Statuts EURL gratuits</strong></a>,\n",
       " <a class=\"wp-block-file__button\" download=\"\" href=\"https://www.coover.fr/wp-content/uploads/2020/08/Statuts-EURL-1.docx\">Télécharger</a>,\n",
       " <a class=\"wp-block-button wp-block-button__link is-style-CTA\" href=\"https://www.coover.fr/creation-entreprise/en-ligne\">Accéder à notre comparatif</a>,\n",
       " <a href=\"https://www.coover.fr/creation-entreprise/eurl-en-ligne\">créer une EURL en ligne</a>,\n",
       " <a href=\"https://www.coover.fr/modeles/creation-entreprise/statuts-sas\" rel=\"bookmark\" title=\"Modèle gratuit statuts SAS\">Modèle gratuit statuts SAS </a>,\n",
       " <a href=\"https://www.coover.fr/modeles/creation-entreprise/statuts-sasu\" rel=\"bookmark\" title=\"Modèle gratuit statuts SASU\">Modèle gratuit statuts SASU </a>,\n",
       " <a href=\"https://www.coover.fr/modeles/gestion-entreprise/augmentation-capital-eurl\" rel=\"bookmark\" title=\"Augmentation du capital : modèle gratuit pour EURL\">Augmentation du capital : modèle gratuit pour EURL </a>,\n",
       " <a href=\"https://www.coover.fr/modeles/creation-entreprise/statuts-sci\" rel=\"bookmark\" title=\"Statuts SCI : notre modèle gratuit\">Statuts SCI : notre modèle gratuit </a>,\n",
       " <a href=\"https://www.coover.fr/modeles/gestion-entreprise/dissolution-eurl\" rel=\"bookmark\" title=\"Dissolution d'EURL : notre modèle gratuit\">Dissolution d'EURL : notre modèle gratuit </a>,\n",
       " <a href=\"https://www.coover.fr/modeles/creation-entreprise/statuts-sarl\" rel=\"bookmark\" title=\"Modèle gratuit de statuts SARL\">Modèle gratuit de statuts SARL </a>,\n",
       " <a href=\"https://www.coover.fr/modeles/assurance/modele-declaration-sinistre\" rel=\"bookmark\" title=\"Modèle déclaration sinistre gratuit\">Modèle déclaration sinistre gratuit </a>,\n",
       " <a href=\"#\" id=\"reply-cancel\">Annuler</a>,\n",
       " <a class=\"hdr-logo-link\" href=\"https://www.coover.fr\" rel=\"home\">\n",
       " <img alt=\"Logo Coover\" class=\"footer-logo\" src=\"https://www.coover.fr/wp-content/themes/coover/static/img/logo-header-white.png\"/>\n",
       " </a>,\n",
       " <a href=\"https://www.coover.fr/assurances-pro\">Assurances professionnelles</a>,\n",
       " <a href=\"https://www.coover.fr/guides-professionnels\">Nos guides</a>,\n",
       " <a href=\"https://www.coover.fr/outils\">Nos outils</a>,\n",
       " <a href=\"https://www.coover.fr/qui-sommes-nous\">Qui sommes-nous ?</a>,\n",
       " <a href=\"https://www.coover.fr/contact\">Contact</a>]"
      ]
     },
     "execution_count": 4,
     "metadata": {},
     "output_type": "execute_result"
    }
   ],
   "source": [
    "#get all 'a' tags\n",
    "tags= site.find_all(\"a\")\n",
    "tags"
   ]
  },
  {
   "cell_type": "code",
   "execution_count": 5,
   "metadata": {},
   "outputs": [],
   "source": [
    "#creat list of links from our web site\n",
    "links = []\n",
    "for tag in tags:\n",
    "    link = tag.get('href')\n",
    "    links.append(link)"
   ]
  },
  {
   "cell_type": "code",
   "execution_count": 6,
   "metadata": {},
   "outputs": [
    {
     "data": {
      "text/plain": [
       "['https://www.coover.fr',\n",
       " 'https://www.coover.fr/assurances',\n",
       " 'https://www.coover.fr/mutuelle',\n",
       " 'https://www.coover.fr/responsabilite-civile-pro',\n",
       " 'https://www.coover.fr/multirisque',\n",
       " 'https://www.coover.fr/prevoyance',\n",
       " 'https://www.coover.fr/garantie-decennale',\n",
       " 'https://www.coover.fr/assurances-pro',\n",
       " 'https://www.coover.fr/guides-professionnels',\n",
       " 'https://www.coover.fr/creation-entreprise',\n",
       " 'https://www.coover.fr/banque-pro',\n",
       " 'https://www.coover.fr/expert-comptable',\n",
       " 'https://www.coover.fr/code-ape-naf',\n",
       " 'https://www.coover.fr/conventions-collectives',\n",
       " 'https://www.coover.fr/guides-professionnels',\n",
       " 'https://www.coover.fr/outils',\n",
       " 'https://www.coover.fr/outils/modele-devis',\n",
       " 'https://www.coover.fr/outils/modele-facture',\n",
       " 'https://www.coover.fr/outils/calculatrice-tva',\n",
       " 'https://www.coover.fr/outils/salaire-brut-en-net',\n",
       " 'https://www.coover.fr/outils/jours-ouvres',\n",
       " 'https://www.coover.fr/outils/cotisations-sociales-auto-entrepreneur',\n",
       " 'https://www.coover.fr/outils/charges-sociales-cout-salarie',\n",
       " 'https://www.coover.fr/modeles',\n",
       " 'https://www.coover.fr/outils',\n",
       " 'https://www.coover.fr/qui-sommes-nous',\n",
       " 'https://www.coover.fr/qui-sommes-nous',\n",
       " 'https://www.coover.fr/presse',\n",
       " 'https://www.coover.fr/mentions-legales',\n",
       " 'https://www.coover.fr/partenariats',\n",
       " 'https://www.coover.fr/contact',\n",
       " 'https://app.coover.fr/',\n",
       " 'https://www.coover.fr/',\n",
       " 'https://www.coover.fr/modeles',\n",
       " 'https://www.coover.fr/modeles/creation-entreprise',\n",
       " 'https://www.coover.fr/partenaires/pappers',\n",
       " '#Notre-modele-de-statuts-EURL-gratuit',\n",
       " '#Statuts-EURL-mentions-obligatoires',\n",
       " '#Comment-utiliser-notre-modele-de-statuts-EURL',\n",
       " '#Statuts-EURL-les-3-pieges-a-eviter',\n",
       " 'https://www.coover.fr/wp-content/uploads/2020/08/Statuts-EURL-1.docx',\n",
       " 'https://www.coover.fr/wp-content/uploads/2020/08/Statuts-EURL-1.docx',\n",
       " 'https://www.coover.fr/wp-content/uploads/2020/08/Statuts-EURL-1.docx',\n",
       " 'https://www.coover.fr/creation-entreprise/en-ligne',\n",
       " 'https://www.coover.fr/creation-entreprise/eurl-en-ligne',\n",
       " 'https://www.coover.fr/modeles/creation-entreprise/statuts-sas',\n",
       " 'https://www.coover.fr/modeles/creation-entreprise/statuts-sasu',\n",
       " 'https://www.coover.fr/modeles/gestion-entreprise/augmentation-capital-eurl',\n",
       " 'https://www.coover.fr/modeles/creation-entreprise/statuts-sci',\n",
       " 'https://www.coover.fr/modeles/gestion-entreprise/dissolution-eurl',\n",
       " 'https://www.coover.fr/modeles/creation-entreprise/statuts-sarl',\n",
       " 'https://www.coover.fr/modeles/assurance/modele-declaration-sinistre',\n",
       " '#',\n",
       " 'https://www.coover.fr',\n",
       " 'https://www.coover.fr/assurances-pro',\n",
       " 'https://www.coover.fr/guides-professionnels',\n",
       " 'https://www.coover.fr/outils',\n",
       " 'https://www.coover.fr/qui-sommes-nous',\n",
       " 'https://www.coover.fr/contact']"
      ]
     },
     "execution_count": 6,
     "metadata": {},
     "output_type": "execute_result"
    }
   ],
   "source": [
    "#all links \n",
    "links"
   ]
  },
  {
   "cell_type": "code",
   "execution_count": 7,
   "metadata": {},
   "outputs": [],
   "source": [
    "#get links that have .doc extension \n",
    "links_down = [ l for l in links if '.docx' in l]"
   ]
  },
  {
   "cell_type": "code",
   "execution_count": 8,
   "metadata": {},
   "outputs": [
    {
     "data": {
      "text/plain": [
       "['https://www.coover.fr/wp-content/uploads/2020/08/Statuts-EURL-1.docx',\n",
       " 'https://www.coover.fr/wp-content/uploads/2020/08/Statuts-EURL-1.docx',\n",
       " 'https://www.coover.fr/wp-content/uploads/2020/08/Statuts-EURL-1.docx']"
      ]
     },
     "execution_count": 8,
     "metadata": {},
     "output_type": "execute_result"
    }
   ],
   "source": [
    "links_down"
   ]
  },
  {
   "cell_type": "code",
   "execution_count": null,
   "metadata": {},
   "outputs": [],
   "source": []
  },
  {
   "cell_type": "code",
   "execution_count": 11,
   "metadata": {},
   "outputs": [],
   "source": [
    "#creat function can download doc from urls passing in argument\n",
    "def downloading_docs(urls):\n",
    "    for url in urls:\n",
    "        r=requests.get(url)\n",
    "        open(\"status_doc1.doc\",'wb').write(r.content)\n",
    "    \n"
   ]
  },
  {
   "cell_type": "code",
   "execution_count": 12,
   "metadata": {},
   "outputs": [],
   "source": [
    "#calling funcion\n",
    "downloading_docs(links_down)"
   ]
  },
  {
   "cell_type": "code",
   "execution_count": 15,
   "metadata": {},
   "outputs": [],
   "source": [
    "from docx import Document"
   ]
  },
  {
   "cell_type": "code",
   "execution_count": 19,
   "metadata": {},
   "outputs": [],
   "source": [
    "path_doc = 'C:/Users/Pc/Desktop/ML TP/status_doc1.doc'\n",
    "text_list = []\n",
    "def doc_to_df(path_doc):\n",
    "    document = Document(path_doc)\n",
    "    for paragh in document.paragraphs:\n",
    "        text_list.append(paragh.text)\n",
    "        "
   ]
  },
  {
   "cell_type": "code",
   "execution_count": 20,
   "metadata": {},
   "outputs": [],
   "source": [
    "doc_to_df(path_doc)"
   ]
  },
  {
   "cell_type": "code",
   "execution_count": 49,
   "metadata": {},
   "outputs": [],
   "source": [
    "#remove empty element\n",
    "text_list_clean =[element for element in text_list if element !=\"\"]"
   ]
  },
  {
   "cell_type": "code",
   "execution_count": 50,
   "metadata": {},
   "outputs": [],
   "source": [
    "list_filt = [ i for i in text_list_clean if 'Article' in i]"
   ]
  },
  {
   "cell_type": "code",
   "execution_count": 51,
   "metadata": {},
   "outputs": [
    {
     "data": {
      "text/plain": [
       "['Article 1 - Forme',\n",
       " 'Article 2 - Objet',\n",
       " 'Article 3 - Dénomination sociale',\n",
       " 'Article 4 - Siège social',\n",
       " 'Article 5 - Durée',\n",
       " 'Article 6 - Apports',\n",
       " 'Article 7 - Capital social',\n",
       " 'Article 8 – Modifications du capital social',\n",
       " 'Article 9 – Comptes courants',\n",
       " 'Article 10 – Représentation des parts sociales',\n",
       " 'Article 11 – Libération des parts sociales',\n",
       " 'Article 12 – Transmissions des parts sociales',\n",
       " 'Article 13 – Décès ou incapacité de l’associé unique',\n",
       " 'Article 14 – Dissolution de la communauté',\n",
       " 'Article 15 – Gérance',\n",
       " 'Article 16 – Commissaires aux comptes',\n",
       " 'Article 17 – Conventions réglementées',\n",
       " 'Article 18 – Représentation sociale',\n",
       " 'Article 19 – Décisions de l’associé unique',\n",
       " 'Article 20 – Exercice social',\n",
       " 'Article 21 – Comptes annuels',\n",
       " 'Article 22 – Affectation et répartition des résultats',\n",
       " 'Article 23 – Dissolution – Liquidation de la Société',\n",
       " 'Article 24 – Personnalité morale et constitution de la société',\n",
       " 'Article 25 – Option pour l’impôt sur les sociétés',\n",
       " 'Article 26 - Actes accomplis pour le compte de la société en formation',\n",
       " 'Article 27 - Publicité',\n",
       " 'Article 28 - Frais']"
      ]
     },
     "execution_count": 51,
     "metadata": {},
     "output_type": "execute_result"
    }
   ],
   "source": [
    "list_filt"
   ]
  },
  {
   "cell_type": "code",
   "execution_count": 88,
   "metadata": {},
   "outputs": [
    {
     "name": "stdout",
     "output_type": "stream",
     "text": [
      "Article 16 – Commissaires aux comptes\n"
     ]
    }
   ],
   "source": [
    "set_art = input()"
   ]
  },
  {
   "cell_type": "code",
   "execution_count": 89,
   "metadata": {},
   "outputs": [],
   "source": [
    "index_test = text_list_clean.index(set_art)"
   ]
  },
  {
   "cell_type": "code",
   "execution_count": 90,
   "metadata": {},
   "outputs": [
    {
     "data": {
      "text/plain": [
       "'L’associé unique désigne, lorsque cela est obligatoire en vertu des dispositions légales et réglementaires, pour la durée, dans les conditions et avec la mission fixée par la loi, notamment en ce qui concerne le contrôle des comptes sociaux, un ou plusieurs Commissaires aux comptes titulaires et un ou plusieurs Commissaires aux comptes suppléants, dans le cadre d’un audit légal classique ou de l’audit légal réservé aux petites entreprises.'"
      ]
     },
     "execution_count": 90,
     "metadata": {},
     "output_type": "execute_result"
    }
   ],
   "source": [
    "text_list_clean[index_test+1]"
   ]
  },
  {
   "cell_type": "code",
   "execution_count": null,
   "metadata": {},
   "outputs": [],
   "source": [
    "\n",
    "            "
   ]
  }
 ],
 "metadata": {
  "kernelspec": {
   "display_name": "Python 3",
   "language": "python",
   "name": "python3"
  },
  "language_info": {
   "codemirror_mode": {
    "name": "ipython",
    "version": 3
   },
   "file_extension": ".py",
   "mimetype": "text/x-python",
   "name": "python",
   "nbconvert_exporter": "python",
   "pygments_lexer": "ipython3",
   "version": "3.8.8"
  },
  "toc": {
   "base_numbering": 1,
   "nav_menu": {},
   "number_sections": true,
   "sideBar": true,
   "skip_h1_title": false,
   "title_cell": "Table of Contents",
   "title_sidebar": "Contents",
   "toc_cell": false,
   "toc_position": {},
   "toc_section_display": true,
   "toc_window_display": false
  },
  "varInspector": {
   "cols": {
    "lenName": 16,
    "lenType": 16,
    "lenVar": 40
   },
   "kernels_config": {
    "python": {
     "delete_cmd_postfix": "",
     "delete_cmd_prefix": "del ",
     "library": "var_list.py",
     "varRefreshCmd": "print(var_dic_list())"
    },
    "r": {
     "delete_cmd_postfix": ") ",
     "delete_cmd_prefix": "rm(",
     "library": "var_list.r",
     "varRefreshCmd": "cat(var_dic_list()) "
    }
   },
   "types_to_exclude": [
    "module",
    "function",
    "builtin_function_or_method",
    "instance",
    "_Feature"
   ],
   "window_display": false
  }
 },
 "nbformat": 4,
 "nbformat_minor": 4
}
